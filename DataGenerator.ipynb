{
 "cells": [
  {
   "cell_type": "markdown",
   "id": "8e883df3",
   "metadata": {},
   "source": [
    "### Step 1: Import Libraries\n",
    "\n",
    "Before I can simulate anything, I need to import the libraries that will help me:\n",
    "\n",
    "- `random`: to simulate the randomness of the roulette wheel.\n",
    "- `pandas`: to store the spin results in a table and save them as a CSV file.\n",
    "\n",
    "These are the only two libraries I need for now.\n"
   ]
  },
  {
   "cell_type": "code",
   "execution_count": 1,
   "id": "1bfe1416",
   "metadata": {},
   "outputs": [],
   "source": [
    "#Importing necessary libraries\n",
    "import random\n",
    "import pandas as pd\n",
    "import matplotlib.pyplot as plt\n",
    "import seaborn as sns\n",
    "import plotly.graph_objects as go\n",
    "import pandas as pd"
   ]
  },
  {
   "cell_type": "markdown",
   "id": "c250989d",
   "metadata": {},
   "source": [
    "### Step 2: Build the European Roulette Simulator\n",
    "\n",
    "Here I’m creating a class called `EuropeanRoulette`. This class represents a real European roulette wheel.\n",
    "\n",
    "It does the following:\n",
    "- Sets up all numbers from 0 to 36.\n",
    "- Assigns a color (red, black, or green) to each number — just like a real roulette wheel.\n",
    "- Lets me add different kinds of bias:\n",
    "    - **Number bias** (e.g., number 17 appears more often).\n",
    "    - **Color bias** (e.g., more red than black).\n",
    "    - **Range bias** (e.g., more low numbers like 1–12).\n",
    "\n",
    "This is useful for reinforcement learning because I can train models on both fair and biased datasets.\n"
   ]
  },
  {
   "cell_type": "code",
   "execution_count": 2,
   "id": "ae02d008",
   "metadata": {},
   "outputs": [],
   "source": [
    "class EuropeanRoulette:\n",
    "    \"\"\"\n",
    "    I'm simulating a European roulette wheel with the option to introduce bias.\n",
    "    Bias lets me favor certain numbers more often, which is useful for training RL models.\n",
    "    \"\"\"\n",
    "    def __init__(self, bias_type=None, bias_target=None, bias_strength=0.1):\n",
    "        \"\"\"\n",
    "        Parameters:\n",
    "        - bias_type: 'number', 'color', or 'range'\n",
    "        - bias_target: depends on type (e.g., 17, 'red', or (1,12))\n",
    "        - bias_strength: how strong the bias is (0.1 = 10% of the time, override random)\n",
    "        \"\"\"\n",
    "        self.numbers = list(range(37))\n",
    "        self.colors = self._assign_colors()\n",
    "\n",
    "        # Save bias settings\n",
    "        self.bias_type = bias_type\n",
    "        self.bias_target = bias_target\n",
    "        self.bias_strength = bias_strength\n",
    "\n",
    "    def _assign_colors(self):\n",
    "        \"\"\"\n",
    "        I'm assigning colors based on real roulette coloring.\n",
    "        \"\"\"\n",
    "        red = {1,3,5,7,9,12,14,16,18,19,21,23,25,27,30,32,34,36}\n",
    "        return {\n",
    "            num: 'green' if num == 0 else 'red' if num in red else 'black'\n",
    "            for num in self.numbers\n",
    "        }\n",
    "\n",
    "    def spin(self):\n",
    "        \"\"\"\n",
    "        Simulate a spin, with an optional bias injected based on the user setting.\n",
    "        \"\"\"\n",
    "        apply_bias = self.bias_type is not None and random.random() < self.bias_strength\n",
    "\n",
    "        if apply_bias:\n",
    "            # I'm applying bias depending on the chosen type\n",
    "            if self.bias_type == 'number':\n",
    "                result = self.bias_target  # Always return the biased number\n",
    "            elif self.bias_type == 'color':\n",
    "                # I’ll filter all numbers of that color and pick one randomly\n",
    "                eligible = [n for n in self.numbers if self.colors[n] == self.bias_target]\n",
    "                result = random.choice(eligible)\n",
    "            elif self.bias_type == 'range':\n",
    "                # Range bias (e.g., (1, 12))\n",
    "                low, high = self.bias_target\n",
    "                eligible = [n for n in self.numbers if low <= n <= high]\n",
    "                result = random.choice(eligible)\n",
    "            else:\n",
    "                result = random.choice(self.numbers)  # fallback\n",
    "        else:\n",
    "            # No bias applied — just a fair spin\n",
    "            result = random.choice(self.numbers)\n",
    "        \n",
    "        return result, self.colors[result]\n"
   ]
  },
  {
   "cell_type": "markdown",
   "id": "9e465f09",
   "metadata": {},
   "source": [
    "### Step 3: Simulate Spins and Create a Dataset\n",
    "\n",
    "Now I’m going to simulate a large number of roulette spins — in this case, 100,000.\n",
    "\n",
    "Before the loop, I create a `wheel` object using the `EuropeanRoulette` class. I can choose:\n",
    "- A fair wheel (no bias).\n",
    "- A biased wheel (e.g., favoring red or low numbers).\n",
    "\n",
    "Inside the loop, I spin the wheel and record:\n",
    "- The spin number\n",
    "- The outcome number (0 to 36)\n",
    "- Its color (red, black, or green)\n",
    "\n",
    "All the spins are saved in a list, which I later convert into a DataFrame.\n"
   ]
  },
  {
   "cell_type": "code",
   "execution_count": 3,
   "id": "46efddb1",
   "metadata": {},
   "outputs": [],
   "source": [
    "# You can tweak these to generate different datasets\n",
    "num_spins = 1000000\n",
    "\n",
    "# Example 1: Fair roulette (no bias)\n",
    "wheel = EuropeanRoulette()\n",
    "\n",
    "# Example 2: Add bias toward number 17 (more frequent than it should be)\n",
    "# wheel = EuropeanRoulette(bias_type='number', bias_target=17, bias_strength=0.05)\n",
    "\n",
    "# Example 3: Add bias toward red numbers\n",
    "# wheel = EuropeanRoulette(bias_type='color', bias_target='red', bias_strength=0.10)\n",
    "\n",
    "# Example 4: Add bias toward low numbers (1–12)\n",
    "# wheel = EuropeanRoulette(bias_type='range', bias_target=(1, 12), bias_strength=0.15)\n",
    "\n",
    "# I'll use this list to store each spin result\n",
    "spin_data = []\n",
    "\n",
    "for i in range(num_spins):\n",
    "    number, color = wheel.spin()\n",
    "    spin_data.append({\n",
    "        \"Spin\": i + 1,\n",
    "        \"Number\": number,\n",
    "        \"Color\": color\n",
    "    })\n",
    "\n",
    "# Convert to DataFrame and save to CSV\n",
    "df = pd.DataFrame(spin_data)"
   ]
  },
  {
   "cell_type": "markdown",
   "id": "d1e34c3e",
   "metadata": {},
   "source": [
    "## Realism Check-Frequency Monitoring"
   ]
  },
  {
   "cell_type": "code",
   "execution_count": 4,
   "id": "99538df1",
   "metadata": {},
   "outputs": [
    {
     "name": "stdout",
     "output_type": "stream",
     "text": [
      "Frequency Analysis:\\ n\n",
      "Color Frequency (%):\n",
      "Color\n",
      "red      48.6833\n",
      "black    48.6307\n",
      "green     2.6860\n",
      "Name: proportion, dtype: float64\n"
     ]
    }
   ],
   "source": [
    "print(\"Frequency Analysis:\\ n\")\n",
    "# Color distribution\n",
    "color_counts = df['Color'].value_counts(normalize=True)\n",
    "print(\"Color Frequency (%):\")\n",
    "print(color_counts * 100)"
   ]
  },
  {
   "cell_type": "code",
   "execution_count": 7,
   "id": "f29e9508",
   "metadata": {},
   "outputs": [
    {
     "data": {
      "image/png": "[encoded data removed]",
      "text/plain": [
       "<Figure size 600x600 with 1 Axes>"
      ]
     },
     "metadata": {},
     "output_type": "display_data"
    }
   ],
   "source": [
    "plt.figure(figsize=(6,6))\n",
    "plt.pie(color_counts, labels=color_counts.index, colors=['red', 'black', 'green'], autopct='%1.1f%%', startangle=140)\n",
    "plt.title(\"Color Distribution Pie Chart\")\n",
    "plt.axis('equal')  # Keep the pie chart circular\n",
    "plt.show()"
   ]
  },
  {
   "cell_type": "code",
   "execution_count": 9,
   "id": "6f0ce3b3",
   "metadata": {},
   "outputs": [
    {
     "data": {
      "application/vnd.plotly.v1+json": {
       "config": {
        "plotlyServerURL": "https://plot.ly"
       },
       "data": [
        {
         "direction": "clockwise",
         "hole": 0.1,
         "labels": [
          "red",
          "black",
          "green"
         ],
         "marker": {
          "colors": [
           "red",
           "black",
           "green"
          ],
          "line": {
           "color": "white",
           "width": 2
          }
         },
         "pull": [
          0.05,
          0.05,
          0.05
         ],
         "rotation": 120,
         "textinfo": "label+percent",
         "type": "pie",
         "values": [
          0.486833,
          0.486307,
          0.02686
         ]
        }
       ],
       "layout": {
        "height": 600,
        "margin": {
         "b": 50,
         "l": 50,
         "r": 50,
         "t": 80
        },
        "showlegend": false,
        "template": {
         "data": {
          "bar": [
           {
            "error_x": {
             "color": "#2a3f5f"
            },
            "error_y": {
             "color": "#2a3f5f"
            },
            "marker": {
             "line": {
              "color": "#E5ECF6",
              "width": 0.5
             },
             "pattern": {
              "fillmode": "overlay",
              "size": 10,
              "solidity": 0.2
             }
            },
            "type": "bar"
           }
          ],
          "barpolar": [
           {
            "marker": {
             "line": {
              "color": "#E5ECF6",
              "width": 0.5
             },
             "pattern": {
              "fillmode": "overlay",
              "size": 10,
              "solidity": 0.2
             }
            },
            "type": "barpolar"
           }
          ],
          "carpet": [
           {
            "aaxis": {
             "endlinecolor": "#2a3f5f",
             "gridcolor": "white",
             "linecolor": "white",
             "minorgridcolor": "white",
             "startlinecolor": "#2a3f5f"
            },
            "baxis": {
             "endlinecolor": "#2a3f5f",
             "gridcolor": "white",
             "linecolor": "white",
             "minorgridcolor": "white",
             "startlinecolor": "#2a3f5f"
            },
            "type": "carpet"
           }
          ],
          "choropleth": [
           {
            "colorbar": {
             "outlinewidth": 0,
             "ticks": ""
            },
            "type": "choropleth"
           }
          ],
          "contour": [
           {
            "colorbar": {
             "outlinewidth": 0,
             "ticks": ""
            },
            "colorscale": [
             [
              0,
              "#0d0887"
             ],
             [
              0.1111111111111111,
              "#46039f"
             ],
             [
              0.2222222222222222,
              "#7201a8"
             ],
             [
              0.3333333333333333,
              "#9c179e"
             ],
             [
              0.4444444444444444,
              "#bd3786"
             ],
             [
              0.5555555555555556,
              "#d8576b"
             ],
             [
              0.6666666666666666,
              "#ed7953"
             ],
             [
              0.7777777777777778,
              "#fb9f3a"
             ],
             [
              0.8888888888888888,
              "#fdca26"
             ],
             [
              1,
              "#f0f921"
             ]
            ],
            "type": "contour"
           }
          ],
          "contourcarpet": [
           {
            "colorbar": {
             "outlinewidth": 0,
             "ticks": ""
            },
            "type": "contourcarpet"
           }
          ],
          "heatmap": [
           {
            "colorbar": {
             "outlinewidth": 0,
             "ticks": ""
            },
            "colorscale": [
             [
              0,
              "#0d0887"
             ],
             [
              0.1111111111111111,
              "#46039f"
             ],
             [
              0.2222222222222222,
              "#7201a8"
             ],
             [
              0.3333333333333333,
              "#9c179e"
             ],
             [
              0.4444444444444444,
              "#bd3786"
             ],
             [
              0.5555555555555556,
              "#d8576b"
             ],
             [
              0.6666666666666666,
              "#ed7953"
             ],
             [
              0.7777777777777778,
              "#fb9f3a"
             ],
             [
              0.8888888888888888,
              "#fdca26"
             ],
             [
              1,
              "#f0f921"
             ]
            ],
            "type": "heatmap"
           }
          ],
          "heatmapgl": [
           {
            "colorbar": {
             "outlinewidth": 0,
             "ticks": ""
            },
            "colorscale": [
             [
              0,
              "#0d0887"
             ],
             [
              0.1111111111111111,
              "#46039f"
             ],
             [
              0.2222222222222222,
              "#7201a8"
             ],
             [
              0.3333333333333333,
              "#9c179e"
             ],
             [
              0.4444444444444444,
              "#bd3786"
             ],
             [
              0.5555555555555556,
              "#d8576b"
             ],
             [
              0.6666666666666666,
              "#ed7953"
             ],
             [
              0.7777777777777778,
              "#fb9f3a"
             ],
             [
              0.8888888888888888,
              "#fdca26"
             ],
             [
              1,
              "#f0f921"
             ]
            ],
            "type": "heatmapgl"
           }
          ],
          "histogram": [
           {
            "marker": {
             "pattern": {
              "fillmode": "overlay",
              "size": 10,
              "solidity": 0.2
             }
            },
            "type": "histogram"
           }
          ],
          "histogram2d": [
           {
            "colorbar": {
             "outlinewidth": 0,
             "ticks": ""
            },
            "colorscale": [
             [
              0,
              "#0d0887"
             ],
             [
              0.1111111111111111,
              "#46039f"
             ],
             [
              0.2222222222222222,
              "#7201a8"
             ],
             [
              0.3333333333333333,
              "#9c179e"
             ],
             [
              0.4444444444444444,
              "#bd3786"
             ],
             [
              0.5555555555555556,
              "#d8576b"
             ],
             [
              0.6666666666666666,
              "#ed7953"
             ],
             [
              0.7777777777777778,
              "#fb9f3a"
             ],
             [
              0.8888888888888888,
              "#fdca26"
             ],
             [
              1,
              "#f0f921"
             ]
            ],
            "type": "histogram2d"
           }
          ],
          "histogram2dcontour": [
           {
            "colorbar": {
             "outlinewidth": 0,
             "ticks": ""
            },
            "colorscale": [
             [
              0,
              "#0d0887"
             ],
             [
              0.1111111111111111,
              "#46039f"
             ],
             [
              0.2222222222222222,
              "#7201a8"
             ],
             [
              0.3333333333333333,
              "#9c179e"
             ],
             [
              0.4444444444444444,
              "#bd3786"
             ],
             [
              0.5555555555555556,
              "#d8576b"
             ],
             [
              0.6666666666666666,
              "#ed7953"
             ],
             [
              0.7777777777777778,
              "#fb9f3a"
             ],
             [
              0.8888888888888888,
              "#fdca26"
             ],
             [
              1,
              "#f0f921"
             ]
            ],
            "type": "histogram2dcontour"
           }
          ],
          "mesh3d": [
           {
            "colorbar": {
             "outlinewidth": 0,
             "ticks": ""
            },
            "type": "mesh3d"
           }
          ],
          "parcoords": [
           {
            "line": {
             "colorbar": {
              "outlinewidth": 0,
              "ticks": ""
             }
            },
            "type": "parcoords"
           }
          ],
          "pie": [
           {
            "automargin": true,
            "type": "pie"
           }
          ],
          "scatter": [
           {
            "fillpattern": {
             "fillmode": "overlay",
             "size": 10,
             "solidity": 0.2
            },
            "type": "scatter"
           }
          ],
          "scatter3d": [
           {
            "line": {
             "colorbar": {
              "outlinewidth": 0,
              "ticks": ""
             }
            },
            "marker": {
             "colorbar": {
              "outlinewidth": 0,
              "ticks": ""
             }
            },
            "type": "scatter3d"
           }
          ],
          "scattercarpet": [
           {
            "marker": {
             "colorbar": {
              "outlinewidth": 0,
              "ticks": ""
             }
            },
            "type": "scattercarpet"
           }
          ],
          "scattergeo": [
           {
            "marker": {
             "colorbar": {
              "outlinewidth": 0,
              "ticks": ""
             }
            },
            "type": "scattergeo"
           }
          ],
          "scattergl": [
           {
            "marker": {
             "colorbar": {
              "outlinewidth": 0,
              "ticks": ""
             }
            },
            "type": "scattergl"
           }
          ],
          "scattermapbox": [
           {
            "marker": {
             "colorbar": {
              "outlinewidth": 0,
              "ticks": ""
             }
            },
            "type": "scattermapbox"
           }
          ],
          "scatterpolar": [
           {
            "marker": {
             "colorbar": {
              "outlinewidth": 0,
              "ticks": ""
             }
            },
            "type": "scatterpolar"
           }
          ],
          "scatterpolargl": [
           {
            "marker": {
             "colorbar": {
              "outlinewidth": 0,
              "ticks": ""
             }
            },
            "type": "scatterpolargl"
           }
          ],
          "scatterternary": [
           {
            "marker": {
             "colorbar": {
              "outlinewidth": 0,
              "ticks": ""
             }
            },
            "type": "scatterternary"
           }
          ],
          "surface": [
           {
            "colorbar": {
             "outlinewidth": 0,
             "ticks": ""
            },
            "colorscale": [
             [
              0,
              "#0d0887"
             ],
             [
              0.1111111111111111,
              "#46039f"
             ],
             [
              0.2222222222222222,
              "#7201a8"
             ],
             [
              0.3333333333333333,
              "#9c179e"
             ],
             [
              0.4444444444444444,
              "#bd3786"
             ],
             [
              0.5555555555555556,
              "#d8576b"
             ],
             [
              0.6666666666666666,
              "#ed7953"
             ],
             [
              0.7777777777777778,
              "#fb9f3a"
             ],
             [
              0.8888888888888888,
              "#fdca26"
             ],
             [
              1,
              "#f0f921"
             ]
            ],
            "type": "surface"
           }
          ],
          "table": [
           {
            "cells": {
             "fill": {
              "color": "#EBF0F8"
             },
             "line": {
              "color": "white"
             }
            },
            "header": {
             "fill": {
              "color": "#C8D4E3"
             },
             "line": {
              "color": "white"
             }
            },
            "type": "table"
           }
          ]
         },
         "layout": {
          "annotationdefaults": {
           "arrowcolor": "#2a3f5f",
           "arrowhead": 0,
           "arrowwidth": 1
          },
          "autotypenumbers": "strict",
          "coloraxis": {
           "colorbar": {
            "outlinewidth": 0,
            "ticks": ""
           }
          },
          "colorscale": {
           "diverging": [
            [
             0,
             "#8e0152"
            ],
            [
             0.1,
             "#c51b7d"
            ],
            [
             0.2,
             "#de77ae"
            ],
            [
             0.3,
             "#f1b6da"
            ],
            [
             0.4,
             "#fde0ef"
            ],
            [
             0.5,
             "#f7f7f7"
            ],
            [
             0.6,
             "#e6f5d0"
            ],
            [
             0.7,
             "#b8e186"
            ],
            [
             0.8,
             "#7fbc41"
            ],
            [
             0.9,
             "#4d9221"
            ],
            [
             1,
             "#276419"
            ]
           ],
           "sequential": [
            [
             0,
             "#0d0887"
            ],
            [
             0.1111111111111111,
             "#46039f"
            ],
            [
             0.2222222222222222,
             "#7201a8"
            ],
            [
             0.3333333333333333,
             "#9c179e"
            ],
            [
             0.4444444444444444,
             "#bd3786"
            ],
            [
             0.5555555555555556,
             "#d8576b"
            ],
            [
             0.6666666666666666,
             "#ed7953"
            ],
            [
             0.7777777777777778,
             "#fb9f3a"
            ],
            [
             0.8888888888888888,
             "#fdca26"
            ],
            [
             1,
             "#f0f921"
            ]
           ],
           "sequentialminus": [
            [
             0,
             "#0d0887"
            ],
            [
             0.1111111111111111,
             "#46039f"
            ],
            [
             0.2222222222222222,
             "#7201a8"
            ],
            [
             0.3333333333333333,
             "#9c179e"
            ],
            [
             0.4444444444444444,
             "#bd3786"
            ],
            [
             0.5555555555555556,
             "#d8576b"
            ],
            [
             0.6666666666666666,
             "#ed7953"
            ],
            [
             0.7777777777777778,
             "#fb9f3a"
            ],
            [
             0.8888888888888888,
             "#fdca26"
            ],
            [
             1,
             "#f0f921"
            ]
           ]
          },
          "colorway": [
           "#636efa",
           "#EF553B",
           "#00cc96",
           "#ab63fa",
           "#FFA15A",
           "#19d3f3",
           "#FF6692",
           "#B6E880",
           "#FF97FF",
           "#FECB52"
          ],
          "font": {
           "color": "#2a3f5f"
          },
          "geo": {
           "bgcolor": "white",
           "lakecolor": "white",
           "landcolor": "#E5ECF6",
           "showlakes": true,
           "showland": true,
           "subunitcolor": "white"
          },
          "hoverlabel": {
           "align": "left"
          },
          "hovermode": "closest",
          "mapbox": {
           "style": "light"
          },
          "paper_bgcolor": "white",
          "plot_bgcolor": "#E5ECF6",
          "polar": {
           "angularaxis": {
            "gridcolor": "white",
            "linecolor": "white",
            "ticks": ""
           },
           "bgcolor": "#E5ECF6",
           "radialaxis": {
            "gridcolor": "white",
            "linecolor": "white",
            "ticks": ""
           }
          },
          "scene": {
           "xaxis": {
            "backgroundcolor": "#E5ECF6",
            "gridcolor": "white",
            "gridwidth": 2,
            "linecolor": "white",
            "showbackground": true,
            "ticks": "",
            "zerolinecolor": "white"
           },
           "yaxis": {
            "backgroundcolor": "#E5ECF6",
            "gridcolor": "white",
            "gridwidth": 2,
            "linecolor": "white",
            "showbackground": true,
            "ticks": "",
            "zerolinecolor": "white"
           },
           "zaxis": {
            "backgroundcolor": "#E5ECF6",
            "gridcolor": "white",
            "gridwidth": 2,
            "linecolor": "white",
            "showbackground": true,
            "ticks": "",
            "zerolinecolor": "white"
           }
          },
          "shapedefaults": {
           "line": {
            "color": "#2a3f5f"
           }
          },
          "ternary": {
           "aaxis": {
            "gridcolor": "white",
            "linecolor": "white",
            "ticks": ""
           },
           "baxis": {
            "gridcolor": "white",
            "linecolor": "white",
            "ticks": ""
           },
           "bgcolor": "#E5ECF6",
           "caxis": {
            "gridcolor": "white",
            "linecolor": "white",
            "ticks": ""
           }
          },
          "title": {
           "x": 0.05
          },
          "xaxis": {
           "automargin": true,
           "gridcolor": "white",
           "linecolor": "white",
           "ticks": "",
           "title": {
            "standoff": 15
           },
           "zerolinecolor": "white",
           "zerolinewidth": 2
          },
          "yaxis": {
           "automargin": true,
           "gridcolor": "white",
           "linecolor": "white",
           "ticks": "",
           "title": {
            "standoff": 15
           },
           "zerolinecolor": "white",
           "zerolinewidth": 2
          }
         }
        },
        "title": {
         "text": "Color Distribution Pie Chart"
        },
        "width": 600
       }
      },
      "text/html": [
       "<div>                            <div id=\"36176e75-c477-41a6-9800-063991990046\" class=\"plotly-graph-div\" style=\"height:600px; width:600px;\"></div>            <script type=\"text/javascript\">                require([\"plotly\"], function(Plotly) {                    window.PLOTLYENV=window.PLOTLYENV || {};                                    if (document.getElementById(\"36176e75-c477-41a6-9800-063991990046\")) {                    Plotly.newPlot(                        \"36176e75-c477-41a6-9800-063991990046\",                        [{\"hole\":0.1,\"labels\":[\"red\",\"black\",\"green\"],\"marker\":{\"colors\":[\"red\",\"black\",\"green\"],\"line\":{\"color\":\"white\",\"width\":2}},\"pull\":[0.05,0.05,0.05],\"textinfo\":\"label+percent\",\"values\":[0.486833,0.486307,0.02686],\"type\":\"pie\",\"direction\":\"clockwise\",\"rotation\":120}],                        {\"template\":{\"data\":{\"histogram2dcontour\":[{\"type\":\"histogram2dcontour\",\"colorbar\":{\"outlinewidth\":0,\"ticks\":\"\"},\"colorscale\":[[0.0,\"#0d0887\"],[0.1111111111111111,\"#46039f\"],[0.2222222222222222,\"#7201a8\"],[0.3333333333333333,\"#9c179e\"],[0.4444444444444444,\"#bd3786\"],[0.5555555555555556,\"#d8576b\"],[0.6666666666666666,\"#ed7953\"],[0.7777777777777778,\"#fb9f3a\"],[0.8888888888888888,\"#fdca26\"],[1.0,\"#f0f921\"]]}],\"choropleth\":[{\"type\":\"choropleth\",\"colorbar\":{\"outlinewidth\":0,\"ticks\":\"\"}}],\"histogram2d\":[{\"type\":\"histogram2d\",\"colorbar\":{\"outlinewidth\":0,\"ticks\":\"\"},\"colorscale\":[[0.0,\"#0d0887\"],[0.1111111111111111,\"#46039f\"],[0.2222222222222222,\"#7201a8\"],[0.3333333333333333,\"#9c179e\"],[0.4444444444444444,\"#bd3786\"],[0.5555555555555556,\"#d8576b\"],[0.6666666666666666,\"#ed7953\"],[0.7777777777777778,\"#fb9f3a\"],[0.8888888888888888,\"#fdca26\"],[1.0,\"#f0f921\"]]}],\"heatmap\":[{\"type\":\"heatmap\",\"colorbar\":{\"outlinewidth\":0,\"ticks\":\"\"},\"colorscale\":[[0.0,\"#0d0887\"],[0.1111111111111111,\"#46039f\"],[0.2222222222222222,\"#7201a8\"],[0.3333333333333333,\"#9c179e\"],[0.4444444444444444,\"#bd3786\"],[0.5555555555555556,\"#d8576b\"],[0.6666666666666666,\"#ed7953\"],[0.7777777777777778,\"#fb9f3a\"],[0.8888888888888888,\"#fdca26\"],[1.0,\"#f0f921\"]]}],\"heatmapgl\":[{\"type\":\"heatmapgl\",\"colorbar\":{\"outlinewidth\":0,\"ticks\":\"\"},\"colorscale\":[[0.0,\"#0d0887\"],[0.1111111111111111,\"#46039f\"],[0.2222222222222222,\"#7201a8\"],[0.3333333333333333,\"#9c179e\"],[0.4444444444444444,\"#bd3786\"],[0.5555555555555556,\"#d8576b\"],[0.6666666666666666,\"#ed7953\"],[0.7777777777777778,\"#fb9f3a\"],[0.8888888888888888,\"#fdca26\"],[1.0,\"#f0f921\"]]}],\"contourcarpet\":[{\"type\":\"contourcarpet\",\"colorbar\":{\"outlinewidth\":0,\"ticks\":\"\"}}],\"contour\":[{\"type\":\"contour\",\"colorbar\":{\"outlinewidth\":0,\"ticks\":\"\"},\"colorscale\":[[0.0,\"#0d0887\"],[0.1111111111111111,\"#46039f\"],[0.2222222222222222,\"#7201a8\"],[0.3333333333333333,\"#9c179e\"],[0.4444444444444444,\"#bd3786\"],[0.5555555555555556,\"#d8576b\"],[0.6666666666666666,\"#ed7953\"],[0.7777777777777778,\"#fb9f3a\"],[0.8888888888888888,\"#fdca26\"],[1.0,\"#f0f921\"]]}],\"surface\":[{\"type\":\"surface\",\"colorbar\":{\"outlinewidth\":0,\"ticks\":\"\"},\"colorscale\":[[0.0,\"#0d0887\"],[0.1111111111111111,\"#46039f\"],[0.2222222222222222,\"#7201a8\"],[0.3333333333333333,\"#9c179e\"],[0.4444444444444444,\"#bd3786\"],[0.5555555555555556,\"#d8576b\"],[0.6666666666666666,\"#ed7953\"],[0.7777777777777778,\"#fb9f3a\"],[0.8888888888888888,\"#fdca26\"],[1.0,\"#f0f921\"]]}],\"mesh3d\":[{\"type\":\"mesh3d\",\"colorbar\":{\"outlinewidth\":0,\"ticks\":\"\"}}],\"scatter\":[{\"fillpattern\":{\"fillmode\":\"overlay\",\"size\":10,\"solidity\":0.2},\"type\":\"scatter\"}],\"parcoords\":[{\"type\":\"parcoords\",\"line\":{\"colorbar\":{\"outlinewidth\":0,\"ticks\":\"\"}}}],\"scatterpolargl\":[{\"type\":\"scatterpolargl\",\"marker\":{\"colorbar\":{\"outlinewidth\":0,\"ticks\":\"\"}}}],\"bar\":[{\"error_x\":{\"color\":\"#2a3f5f\"},\"error_y\":{\"color\":\"#2a3f5f\"},\"marker\":{\"line\":{\"color\":\"#E5ECF6\",\"width\":0.5},\"pattern\":{\"fillmode\":\"overlay\",\"size\":10,\"solidity\":0.2}},\"type\":\"bar\"}],\"scattergeo\":[{\"type\":\"scattergeo\",\"marker\":{\"colorbar\":{\"outlinewidth\":0,\"ticks\":\"\"}}}],\"scatterpolar\":[{\"type\":\"scatterpolar\",\"marker\":{\"colorbar\":{\"outlinewidth\":0,\"ticks\":\"\"}}}],\"histogram\":[{\"marker\":{\"pattern\":{\"fillmode\":\"overlay\",\"size\":10,\"solidity\":0.2}},\"type\":\"histogram\"}],\"scattergl\":[{\"type\":\"scattergl\",\"marker\":{\"colorbar\":{\"outlinewidth\":0,\"ticks\":\"\"}}}],\"scatter3d\":[{\"type\":\"scatter3d\",\"line\":{\"colorbar\":{\"outlinewidth\":0,\"ticks\":\"\"}},\"marker\":{\"colorbar\":{\"outlinewidth\":0,\"ticks\":\"\"}}}],\"scattermapbox\":[{\"type\":\"scattermapbox\",\"marker\":{\"colorbar\":{\"outlinewidth\":0,\"ticks\":\"\"}}}],\"scatterternary\":[{\"type\":\"scatterternary\",\"marker\":{\"colorbar\":{\"outlinewidth\":0,\"ticks\":\"\"}}}],\"scattercarpet\":[{\"type\":\"scattercarpet\",\"marker\":{\"colorbar\":{\"outlinewidth\":0,\"ticks\":\"\"}}}],\"carpet\":[{\"aaxis\":{\"endlinecolor\":\"#2a3f5f\",\"gridcolor\":\"white\",\"linecolor\":\"white\",\"minorgridcolor\":\"white\",\"startlinecolor\":\"#2a3f5f\"},\"baxis\":{\"endlinecolor\":\"#2a3f5f\",\"gridcolor\":\"white\",\"linecolor\":\"white\",\"minorgridcolor\":\"white\",\"startlinecolor\":\"#2a3f5f\"},\"type\":\"carpet\"}],\"table\":[{\"cells\":{\"fill\":{\"color\":\"#EBF0F8\"},\"line\":{\"color\":\"white\"}},\"header\":{\"fill\":{\"color\":\"#C8D4E3\"},\"line\":{\"color\":\"white\"}},\"type\":\"table\"}],\"barpolar\":[{\"marker\":{\"line\":{\"color\":\"#E5ECF6\",\"width\":0.5},\"pattern\":{\"fillmode\":\"overlay\",\"size\":10,\"solidity\":0.2}},\"type\":\"barpolar\"}],\"pie\":[{\"automargin\":true,\"type\":\"pie\"}]},\"layout\":{\"autotypenumbers\":\"strict\",\"colorway\":[\"#636efa\",\"#EF553B\",\"#00cc96\",\"#ab63fa\",\"#FFA15A\",\"#19d3f3\",\"#FF6692\",\"#B6E880\",\"#FF97FF\",\"#FECB52\"],\"font\":{\"color\":\"#2a3f5f\"},\"hovermode\":\"closest\",\"hoverlabel\":{\"align\":\"left\"},\"paper_bgcolor\":\"white\",\"plot_bgcolor\":\"#E5ECF6\",\"polar\":{\"bgcolor\":\"#E5ECF6\",\"angularaxis\":{\"gridcolor\":\"white\",\"linecolor\":\"white\",\"ticks\":\"\"},\"radialaxis\":{\"gridcolor\":\"white\",\"linecolor\":\"white\",\"ticks\":\"\"}},\"ternary\":{\"bgcolor\":\"#E5ECF6\",\"aaxis\":{\"gridcolor\":\"white\",\"linecolor\":\"white\",\"ticks\":\"\"},\"baxis\":{\"gridcolor\":\"white\",\"linecolor\":\"white\",\"ticks\":\"\"},\"caxis\":{\"gridcolor\":\"white\",\"linecolor\":\"white\",\"ticks\":\"\"}},\"coloraxis\":{\"colorbar\":{\"outlinewidth\":0,\"ticks\":\"\"}},\"colorscale\":{\"sequential\":[[0.0,\"#0d0887\"],[0.1111111111111111,\"#46039f\"],[0.2222222222222222,\"#7201a8\"],[0.3333333333333333,\"#9c179e\"],[0.4444444444444444,\"#bd3786\"],[0.5555555555555556,\"#d8576b\"],[0.6666666666666666,\"#ed7953\"],[0.7777777777777778,\"#fb9f3a\"],[0.8888888888888888,\"#fdca26\"],[1.0,\"#f0f921\"]],\"sequentialminus\":[[0.0,\"#0d0887\"],[0.1111111111111111,\"#46039f\"],[0.2222222222222222,\"#7201a8\"],[0.3333333333333333,\"#9c179e\"],[0.4444444444444444,\"#bd3786\"],[0.5555555555555556,\"#d8576b\"],[0.6666666666666666,\"#ed7953\"],[0.7777777777777778,\"#fb9f3a\"],[0.8888888888888888,\"#fdca26\"],[1.0,\"#f0f921\"]],\"diverging\":[[0,\"#8e0152\"],[0.1,\"#c51b7d\"],[0.2,\"#de77ae\"],[0.3,\"#f1b6da\"],[0.4,\"#fde0ef\"],[0.5,\"#f7f7f7\"],[0.6,\"#e6f5d0\"],[0.7,\"#b8e186\"],[0.8,\"#7fbc41\"],[0.9,\"#4d9221\"],[1,\"#276419\"]]},\"xaxis\":{\"gridcolor\":\"white\",\"linecolor\":\"white\",\"ticks\":\"\",\"title\":{\"standoff\":15},\"zerolinecolor\":\"white\",\"automargin\":true,\"zerolinewidth\":2},\"yaxis\":{\"gridcolor\":\"white\",\"linecolor\":\"white\",\"ticks\":\"\",\"title\":{\"standoff\":15},\"zerolinecolor\":\"white\",\"automargin\":true,\"zerolinewidth\":2},\"scene\":{\"xaxis\":{\"backgroundcolor\":\"#E5ECF6\",\"gridcolor\":\"white\",\"linecolor\":\"white\",\"showbackground\":true,\"ticks\":\"\",\"zerolinecolor\":\"white\",\"gridwidth\":2},\"yaxis\":{\"backgroundcolor\":\"#E5ECF6\",\"gridcolor\":\"white\",\"linecolor\":\"white\",\"showbackground\":true,\"ticks\":\"\",\"zerolinecolor\":\"white\",\"gridwidth\":2},\"zaxis\":{\"backgroundcolor\":\"#E5ECF6\",\"gridcolor\":\"white\",\"linecolor\":\"white\",\"showbackground\":true,\"ticks\":\"\",\"zerolinecolor\":\"white\",\"gridwidth\":2}},\"shapedefaults\":{\"line\":{\"color\":\"#2a3f5f\"}},\"annotationdefaults\":{\"arrowcolor\":\"#2a3f5f\",\"arrowhead\":0,\"arrowwidth\":1},\"geo\":{\"bgcolor\":\"white\",\"landcolor\":\"#E5ECF6\",\"subunitcolor\":\"white\",\"showland\":true,\"showlakes\":true,\"lakecolor\":\"white\"},\"title\":{\"x\":0.05},\"mapbox\":{\"style\":\"light\"}}},\"margin\":{\"t\":80,\"l\":50,\"r\":50,\"b\":50},\"title\":{\"text\":\"Color Distribution Pie Chart\"},\"showlegend\":false,\"height\":600,\"width\":600},                        {\"responsive\": true}                    ).then(function(){\n",
       "                            \n",
       "var gd = document.getElementById('36176e75-c477-41a6-9800-063991990046');\n",
       "var x = new MutationObserver(function (mutations, observer) {{\n",
       "        var display = window.getComputedStyle(gd).display;\n",
       "        if (!display || display === 'none') {{\n",
       "            console.log([gd, 'removed!']);\n",
       "            Plotly.purge(gd);\n",
       "            observer.disconnect();\n",
       "        }}\n",
       "}});\n",
       "\n",
       "// Listen for the removal of the full notebook cells\n",
       "var notebookContainer = gd.closest('#notebook-container');\n",
       "if (notebookContainer) {{\n",
       "    x.observe(notebookContainer, {childList: true});\n",
       "}}\n",
       "\n",
       "// Listen for the clearing of the current output cell\n",
       "var outputEl = gd.closest('.output');\n",
       "if (outputEl) {{\n",
       "    x.observe(outputEl, {childList: true});\n",
       "}}\n",
       "\n",
       "                        })                };                });            </script>        </div>"
      ]
     },
     "metadata": {},
     "output_type": "display_data"
    }
   ],
   "source": [
    "# Prepare labels and values\n",
    "labels = color_counts.index.tolist()\n",
    "values = color_counts.values.tolist()\n",
    "\n",
    "\n",
    "colors =['red', 'black', 'green']\n",
    "\n",
    "# Create pie chart\n",
    "fig = go.Figure(\n",
    "    go.Pie(\n",
    "        labels=labels,\n",
    "        values=values,\n",
    "        hole=0.1,\n",
    "        pull=[0.05] * len(values),  # \"Explode\" effect\n",
    "        marker=dict(colors=colors, line=dict(color='white', width=2)),\n",
    "        textinfo='label+percent',\n",
    "    )\n",
    ")\n",
    "\n",
    "# Tilt effect (simulate 3D by rotating view)\n",
    "fig.update_layout(\n",
    "    title=\"Color Distribution Pie Chart\",\n",
    "    showlegend=False,\n",
    "    margin=dict(t=80, l=50, r=50, b=50),\n",
    "    height=600,\n",
    "    width=600,\n",
    ")\n",
    "\n",
    "# This simulates a tilted effect with camera\n",
    "fig.update_traces(rotation=120, direction='clockwise')\n",
    "\n",
    "# Show it\n",
    "fig.show()"
   ]
  },
  {
   "cell_type": "markdown",
   "id": "72ba2fe0",
   "metadata": {},
   "source": [
    "### Color Frequency Analysis\n",
    "\n",
    "After simulating 100,000 roulette spins, we evaluated the frequency distribution of each color (Red, Black, Green) to ensure that the simulation remains realistic and consistent with actual roulette probabilities.\n",
    "\n",
    "#### Observed Results:\n",
    "\n",
    "| Color  | Frequency (%) |\n",
    "|--------|----------------|\n",
    "| Red    | 48.89%         |\n",
    "| Black  | 48.41%         |\n",
    "| Green  | 2.70%          |\n",
    "\n",
    "#### Interpretation:\n",
    "\n",
    "- **Red and Black** are nearly balanced, each close to the theoretical value of ~48.65%.\n",
    "- **Green (zero)** occurs at approximately 2.70%, which closely matches the expected probability of 1 in 37 (≈ 2.70%).\n",
    "- No color exceeds 55%, which would indicate excessive skew or unrealistic bias.\n",
    "\n",
    "#### Conclusion:\n",
    "\n",
    "The color distribution is within normal bounds and reflects realistic roulette behavior. The data can be considered reliable for training reinforcement learning agents or conducting further analysis.\n"
   ]
  },
  {
   "cell_type": "markdown",
   "id": "55a703e2",
   "metadata": {},
   "source": [
    "### Step 4: Save the Spin Data to a CSV File\n",
    "\n",
    "After simulating all the spins, I save the results into a `.csv` file using pandas.\n",
    "\n",
    "The filename includes the type of bias used (e.g., `roulette_spin_data_fair.csv` or `roulette_spin_data_color.csv`) so I can easily tell them apart later.\n",
    "\n",
    "This dataset will be useful for:\n",
    "- Training my reinforcement learning agent.\n",
    "- Comparing how it performs on fair vs biased data."
   ]
  },
  {
   "cell_type": "markdown",
   "id": "58b1a390",
   "metadata": {},
   "source": [
    "## Even/Odd Distribution"
   ]
  },
  {
   "cell_type": "code",
   "execution_count": 10,
   "id": "f04afaa2",
   "metadata": {},
   "outputs": [
    {
     "name": "stdout",
     "output_type": "stream",
     "text": [
      "\n",
      "Parity Frequency (%):\n",
      "Number\n",
      "even    48.6978\n",
      "odd     48.6162\n",
      "zero     2.6860\n",
      "Name: proportion, dtype: float64\n"
     ]
    }
   ],
   "source": [
    "# Even/Odd distribution\n",
    "parity = df['Number'].apply(lambda x: 'even' if x != 0 and x % 2 == 0 else 'odd' if x != 0 else 'zero')\n",
    "parity_counts = parity.value_counts(normalize=True)\n",
    "print(\"\\nParity Frequency (%):\")\n",
    "print(parity_counts * 100)"
   ]
  },
  {
   "cell_type": "code",
   "execution_count": 11,
   "id": "c5b13297",
   "metadata": {},
   "outputs": [
    {
     "data": {
      "image/png": "[encoded data removed]",
      "text/plain": [
       "<Figure size 600x400 with 1 Axes>"
      ]
     },
     "metadata": {},
     "output_type": "display_data"
    }
   ],
   "source": [
    "# plotting parity\n",
    "df['Parity'] = df['Number'].apply(\n",
    "    lambda x: 'even' if x != 0 and x % 2 == 0 else 'odd' if x != 0 else 'zero'\n",
    ")\n",
    "\n",
    "# Step 2: Plot barplot\n",
    "plt.figure(figsize=(6, 4))\n",
    "sns.countplot(x='Parity', data=df, order=['zero', 'even', 'odd'], palette='Set2')\n",
    "\n",
    "# Step 3: Label the plot\n",
    "plt.title(\"Parity Distribution (Even, Odd, Zero)\")\n",
    "plt.xlabel(\"Parity\")\n",
    "plt.ylabel(\"Count\")\n",
    "plt.tight_layout()\n",
    "plt.show()"
   ]
  },
  {
   "cell_type": "markdown",
   "id": "318981be",
   "metadata": {},
   "source": [
    "### Parity Frequency Analysis\n",
    "\n",
    "We analyzed the parity distribution (even vs. odd numbers) from the 100,000 simulated roulette spins. This helps validate whether the outcome probabilities are aligned with realistic roulette behavior.\n",
    "\n",
    "#### Observed Results:\n",
    "\n",
    "| Parity | Frequency (%) |\n",
    "|--------|----------------|\n",
    "| Odd    | 48.90%         |\n",
    "| Even   | 48.40%         |\n",
    "| Zero   | 2.70%          |\n",
    "\n",
    "#### Interpretation:\n",
    "\n",
    "- **Odd and even numbers** are nearly balanced, as expected in a fair European roulette wheel (excluding zero).\n",
    "- **Zero** appears ~2.70% of the time, matching its theoretical probability of 1 in 37 spins.\n",
    "\n",
    "#### Conclusion:\n",
    "\n",
    "The parity distribution reflects realistic roulette behavior. There are no anomalies or excessive skew, so the dataset is suitable for training or analysis under fair or moderately biased conditions."
   ]
  },
  {
   "cell_type": "markdown",
   "id": "56d06d6e",
   "metadata": {},
   "source": [
    "## Low/High Number Range"
   ]
  },
  {
   "cell_type": "code",
   "execution_count": 12,
   "id": "6f769d43",
   "metadata": {},
   "outputs": [
    {
     "name": "stdout",
     "output_type": "stream",
     "text": [
      "\n",
      "Low/High Range Frequency (%):\n",
      "Number\n",
      "high    48.6911\n",
      "low     48.6229\n",
      "zero     2.6860\n",
      "Name: proportion, dtype: float64\n"
     ]
    }
   ],
   "source": [
    "# Low/High number range\n",
    "low_high = df['Number'].apply(lambda x: 'low' if 1 <= x <= 18 else 'high' if 19 <= x <= 36 else 'zero')\n",
    "range_counts = low_high.value_counts(normalize=True)\n",
    "print(\"\\nLow/High Range Frequency (%):\")\n",
    "print(range_counts * 100)"
   ]
  },
  {
   "cell_type": "markdown",
   "id": "4984b033",
   "metadata": {},
   "source": [
    "## Distribution of the Numbers"
   ]
  },
  {
   "cell_type": "code",
   "execution_count": 13,
   "id": "5612ba3c",
   "metadata": {},
   "outputs": [
    {
     "data": {
      "image/png": "[encoded data removed]",
      "text/plain": [
       "<Figure size 1600x600 with 1 Axes>"
      ]
     },
     "metadata": {},
     "output_type": "display_data"
    }
   ],
   "source": [
    "plt.figure(figsize=(16,6))\n",
    "sns.countplot(x='Number', data=df, palette='viridis')\n",
    "plt.title(\"Frequency of Each Roulette Number\")\n",
    "plt.xlabel(\"Number\")\n",
    "plt.ylabel(\"Count\")\n",
    "plt.show()"
   ]
  },
  {
   "cell_type": "markdown",
   "id": "3f744a19",
   "metadata": {},
   "source": [
    "The distribution seem to be uniform. Hence, indicating the realistic simulation where all numbers have equal pprobability of occuring."
   ]
  },
  {
   "cell_type": "markdown",
   "id": "47e8a2ac",
   "metadata": {},
   "source": [
    "## Chi-Sq Test "
   ]
  },
  {
   "cell_type": "code",
   "execution_count": 15,
   "id": "9da1f465",
   "metadata": {},
   "outputs": [
    {
     "name": "stdout",
     "output_type": "stream",
     "text": [
      "\n",
      "Chi-Square Statistic: 1.3453\n",
      "P-value: 0.5104\n",
      "Roulette appears fair (no significant bias)\n"
     ]
    }
   ],
   "source": [
    "from scipy.stats import chisquare\n",
    "\n",
    "# Expected probabilities\n",
    "expected_probs = [18/37, 18/37, 1/37]  # black, red, green\n",
    "observed_counts = df['Color'].value_counts().reindex(['black', 'red', 'green'], fill_value=0).values\n",
    "expected_counts = [p * len(df) for p in expected_probs]\n",
    "\n",
    "# Perform chi-square test\n",
    "chi2_stat, p_value = chisquare(f_obs=observed_counts, f_exp=expected_counts)\n",
    "print(f\"\\nChi-Square Statistic: {chi2_stat:.4f}\")\n",
    "print(f\"P-value: {p_value:.4f}\")\n",
    "\n",
    "if p_value < 0.05:\n",
    "    print(\"Roulette appears to be biased (statistically significant)\")\n",
    "else:\n",
    "    print(\"Roulette appears fair (no significant bias)\")"
   ]
  },
  {
   "cell_type": "code",
   "execution_count": 18,
   "id": "6bbfbfc0",
   "metadata": {},
   "outputs": [
    {
     "name": "stdout",
     "output_type": "stream",
     "text": [
      "Simulation is realsitic\n",
      "Simulation is realsitic\n",
      "Simulation is realsitic\n"
     ]
    }
   ],
   "source": [
    "# Check for potential unrealistic distributions\n",
    "def check_threshold(label, dist, threshold=0.50):\n",
    "    for k, v in dist.items():\n",
    "        if v > threshold:\n",
    "            print(f\"⚠️ Warning: {label} '{k}' exceeds {threshold*100:.0f}% — check for unrealistic bias!\")\n",
    "            return\n",
    "    print(\"Simulation is realsitic\")\n",
    "\n",
    "check_threshold(\"Color\", color_counts)\n",
    "check_threshold(\"Parity\", parity_counts)\n",
    "check_threshold(\"Range\", range_counts)"
   ]
  },
  {
   "cell_type": "code",
   "execution_count": 19,
   "id": "69ced5b4",
   "metadata": {},
   "outputs": [
    {
     "name": "stdout",
     "output_type": "stream",
     "text": [
      "\n",
      "✅ Data saved to roulette_spin_data_fair.csv\n"
     ]
    }
   ],
   "source": [
    "bias_name = wheel.bias_type if wheel.bias_type else \"fair\"\n",
    "df.to_csv(f\"roulette_spin_data_{bias_name}.csv\", index=False)\n",
    "print(f\"\\n✅ Data saved to roulette_spin_data_{bias_name}.csv\")"
   ]
  },
  {
   "cell_type": "markdown",
   "id": "937af876",
   "metadata": {},
   "source": [
    "### Summary\n",
    "\n",
    "In this notebook, I:\n",
    "\n",
    "1. Simulated a European roulette wheel with optional bias.\n",
    "2. Generated thousands of realistic spin results.\n",
    "3. Saved the data into CSV files for use in machine learning or analysis.\n",
    "\n",
    "Next steps I might explore:\n",
    "- Visualize the distribution of outcomes.\n",
    "- Create an OpenAI Gym-style environment using this data.\n",
    "- Train a reinforcement learning model to learn patterns (if any) from biased spins.\n",
    "\n",
    "This setup gives me a flexible foundation to test how RL agents respond to both fair and unfair conditions.\n"
   ]
  },
  {
   "cell_type": "markdown",
   "id": "7a318d70",
   "metadata": {},
   "source": [
    "| To \\ From   | Standby (S) | Active (A) | Down (D) | Maintenance (M) |\n",
    "|-------------|-------------|------------|----------|------------------|\n",
    "| Standby (S) | 0.05        | 0.10       | 0.00     | 0.50             |\n",
    "| Active (A)  | 0.93        | 0.86       | 0.00     | 0.10             |\n",
    "| Down (D)    | 0.02        | 0.04       | 1.00     | 0.00             |\n",
    "| Maint. (M)  | 0.00        | 0.00       | 0.00     | 0.40        "
   ]
  },
  {
   "cell_type": "code",
   "execution_count": null,
   "id": "236ae0f8",
   "metadata": {},
   "outputs": [],
   "source": []
  }
 ],
 "metadata": {
  "kernelspec": {
   "display_name": "Python 3 (ipykernel)",
   "language": "python",
   "name": "python3"
  },
  "language_info": {
   "codemirror_mode": {
    "name": "ipython",
    "version": 3
   },
   "file_extension": ".py",
   "mimetype": "text/x-python",
   "name": "python",
   "nbconvert_exporter": "python",
   "pygments_lexer": "ipython3",
   "version": "3.11.5"
  }
 },
 "nbformat": 4,
 "nbformat_minor": 5
}
