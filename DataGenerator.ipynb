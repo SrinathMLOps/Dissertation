{
  "cells": [
    {
      "cell_type": "markdown",
      "metadata": {
        "id": "view-in-github",
        "colab_type": "text"
      },
      "source": [
        "<a href=\"https://colab.research.google.com/github/SrinathMLOps/Dissertation/blob/main/DataGenerator.ipynb\" target=\"_parent\"><img src=\"https://colab.research.google.com/assets/colab-badge.svg\" alt=\"Open In Colab\"/></a>"
      ]
    },
    {
      "cell_type": "markdown",
      "id": "8e883df3",
      "metadata": {
        "id": "8e883df3"
      },
      "source": [
        "### Step 1: Import Libraries\n",
        "\n",
        "Before I can simulate anything, I need to import the libraries that will help me:\n",
        "\n",
        "- `random`: to simulate the randomness of the roulette wheel.\n",
        "- `pandas`: to store the spin results in a table and save them as a CSV file.\n",
        "\n",
        "These are the only two libraries I need for now.\n"
      ]
    },
    {
      "cell_type": "code",
      "execution_count": 1,
      "id": "1bfe1416",
      "metadata": {
        "id": "1bfe1416"
      },
      "outputs": [],
      "source": [
        "#Importing necessary libraries\n",
        "import random\n",
        "import pandas as pd\n",
        "import matplotlib.pyplot as plt\n",
        "import seaborn as sns\n"
      ]
    },
    {
      "cell_type": "markdown",
      "id": "c250989d",
      "metadata": {
        "id": "c250989d"
      },
      "source": [
        "### Step 2: Build the European Roulette Simulator\n",
        "\n",
        "Here I’m creating a class called `EuropeanRoulette`. This class represents a real European roulette wheel.\n",
        "\n",
        "It does the following:\n",
        "- Sets up all numbers from 0 to 36.\n",
        "- Assigns a color (red, black, or green) to each number — just like a real roulette wheel.\n",
        "- Lets me add different kinds of bias:\n",
        "    - **Number bias** (e.g., number 17 appears more often).\n",
        "    - **Color bias** (e.g., more red than black).\n",
        "    - **Range bias** (e.g., more low numbers like 1–12).\n",
        "\n",
        "This is useful for reinforcement learning because I can train models on both fair and biased datasets.\n"
      ]
    },
    {
      "cell_type": "code",
      "execution_count": 2,
      "id": "ae02d008",
      "metadata": {
        "id": "ae02d008"
      },
      "outputs": [],
      "source": [
        "class EuropeanRoulette:\n",
        "    \"\"\"\n",
        "    I'm simulating a European roulette wheel with the option to introduce bias.\n",
        "    Bias lets me favor certain numbers more often, which is useful for training RL models.\n",
        "    \"\"\"\n",
        "    def __init__(self, bias_type=None, bias_target=None, bias_strength=0.1):\n",
        "        \"\"\"\n",
        "        Parameters:\n",
        "        - bias_type: 'number', 'color', or 'range'\n",
        "        - bias_target: depends on type (e.g., 17, 'red', or (1,12))\n",
        "        - bias_strength: how strong the bias is (0.1 = 10% of the time, override random)\n",
        "        \"\"\"\n",
        "        self.numbers = list(range(37))\n",
        "        self.colors = self._assign_colors()\n",
        "\n",
        "        # Save bias settings\n",
        "        self.bias_type = bias_type\n",
        "        self.bias_target = bias_target\n",
        "        self.bias_strength = bias_strength\n",
        "\n",
        "    def _assign_colors(self):\n",
        "        \"\"\"\n",
        "        I'm assigning colors based on real roulette coloring.\n",
        "        \"\"\"\n",
        "        red = {1,3,5,7,9,12,14,16,18,19,21,23,25,27,30,32,34,36}\n",
        "        return {\n",
        "            num: 'green' if num == 0 else 'red' if num in red else 'black'\n",
        "            for num in self.numbers\n",
        "        }\n",
        "\n",
        "    def spin(self):\n",
        "        \"\"\"\n",
        "        Simulate a spin, with an optional bias injected based on the user setting.\n",
        "        \"\"\"\n",
        "        apply_bias = self.bias_type is not None and random.random() < self.bias_strength\n",
        "\n",
        "        if apply_bias:\n",
        "            # I'm applying bias depending on the chosen type\n",
        "            if self.bias_type == 'number':\n",
        "                result = self.bias_target  # Always return the biased number\n",
        "            elif self.bias_type == 'color':\n",
        "                # I’ll filter all numbers of that color and pick one randomly\n",
        "                eligible = [n for n in self.numbers if self.colors[n] == self.bias_target]\n",
        "                result = random.choice(eligible)\n",
        "            elif self.bias_type == 'range':\n",
        "                # Range bias (e.g., (1, 12))\n",
        "                low, high = self.bias_target\n",
        "                eligible = [n for n in self.numbers if low <= n <= high]\n",
        "                result = random.choice(eligible)\n",
        "            else:\n",
        "                result = random.choice(self.numbers)  # fallback\n",
        "        else:\n",
        "            # No bias applied — just a fair spin\n",
        "            result = random.choice(self.numbers)\n",
        "\n",
        "        return result, self.colors[result]\n"
      ]
    },
    {
      "cell_type": "markdown",
      "id": "9e465f09",
      "metadata": {
        "id": "9e465f09"
      },
      "source": [
        "### Step 3: Simulate Spins and Create a Dataset\n",
        "\n",
        "Now I’m going to simulate a large number of roulette spins — in this case, 100,000.\n",
        "\n",
        "Before the loop, I create a `wheel` object using the `EuropeanRoulette` class. I can choose:\n",
        "- A fair wheel (no bias).\n",
        "- A biased wheel (e.g., favoring red or low numbers).\n",
        "\n",
        "Inside the loop, I spin the wheel and record:\n",
        "- The spin number\n",
        "- The outcome number (0 to 36)\n",
        "- Its color (red, black, or green)\n",
        "\n",
        "All the spins are saved in a list, which I later convert into a DataFrame.\n"
      ]
    },
    {
      "cell_type": "code",
      "execution_count": 3,
      "id": "46efddb1",
      "metadata": {
        "id": "46efddb1"
      },
      "outputs": [],
      "source": [
        "# You can tweak these to generate different datasets\n",
        "num_spins = 100_000\n",
        "\n",
        "# Example 1: Fair roulette (no bias)\n",
        "# wheel = EuropeanRoulette()\n",
        "\n",
        "# Example 2: Add bias toward number 17 (more frequent than it should be)\n",
        "# wheel = EuropeanRoulette(bias_type='number', bias_target=17, bias_strength=0.05)\n",
        "\n",
        "# Example 3: Add bias toward red numbers\n",
        "# wheel = EuropeanRoulette(bias_type='color', bias_target='red', bias_strength=0.10)\n",
        "\n",
        "# Example 4: Add bias toward low numbers (1–12)\n",
        "wheel = EuropeanRoulette(bias_type='range', bias_target=(1, 12), bias_strength=0.15)\n",
        "\n",
        "# I'll use this list to store each spin result\n",
        "spin_data = []\n",
        "\n",
        "for i in range(num_spins):\n",
        "    number, color = wheel.spin()\n",
        "    spin_data.append({\n",
        "        \"Spin\": i + 1,\n",
        "        \"Number\": number,\n",
        "        \"Color\": color\n",
        "    })\n",
        "\n",
        "# Convert to DataFrame and save to CSV\n",
        "df = pd.DataFrame(spin_data)"
      ]
    },
    {
      "cell_type": "markdown",
      "id": "55a703e2",
      "metadata": {
        "id": "55a703e2"
      },
      "source": [
        "### Step 4: Save the Spin Data to a CSV File\n",
        "\n",
        "After simulating all the spins, I save the results into a `.csv` file using pandas.\n",
        "\n",
        "The filename includes the type of bias used (e.g., `roulette_spin_data_fair.csv` or `roulette_spin_data_color.csv`) so I can easily tell them apart later.\n",
        "\n",
        "This dataset will be useful for:\n",
        "- Training my reinforcement learning agent.\n",
        "- Comparing how it performs on fair vs biased data."
      ]
    },
    {
      "cell_type": "code",
      "execution_count": 4,
      "id": "bcb8614d",
      "metadata": {
        "colab": {
          "base_uri": "https://localhost:8080/",
          "height": 206
        },
        "id": "bcb8614d",
        "outputId": "78838835-8cf1-4ae9-b2e4-c1ab11fe21e8"
      },
      "outputs": [
        {
          "output_type": "execute_result",
          "data": {
            "text/plain": [
              "   Spin  Number  Color\n",
              "0     1       8  black\n",
              "1     2      29  black\n",
              "2     3       9    red\n",
              "3     4      26  black\n",
              "4     5      26  black"
            ],
            "text/html": [
              "\n",
              "  <div id=\"df-2e304ac9-ac66-4632-87dd-91adcee16168\" class=\"colab-df-container\">\n",
              "    <div>\n",
              "<style scoped>\n",
              "    .dataframe tbody tr th:only-of-type {\n",
              "        vertical-align: middle;\n",
              "    }\n",
              "\n",
              "    .dataframe tbody tr th {\n",
              "        vertical-align: top;\n",
              "    }\n",
              "\n",
              "    .dataframe thead th {\n",
              "        text-align: right;\n",
              "    }\n",
              "</style>\n",
              "<table border=\"1\" class=\"dataframe\">\n",
              "  <thead>\n",
              "    <tr style=\"text-align: right;\">\n",
              "      <th></th>\n",
              "      <th>Spin</th>\n",
              "      <th>Number</th>\n",
              "      <th>Color</th>\n",
              "    </tr>\n",
              "  </thead>\n",
              "  <tbody>\n",
              "    <tr>\n",
              "      <th>0</th>\n",
              "      <td>1</td>\n",
              "      <td>8</td>\n",
              "      <td>black</td>\n",
              "    </tr>\n",
              "    <tr>\n",
              "      <th>1</th>\n",
              "      <td>2</td>\n",
              "      <td>29</td>\n",
              "      <td>black</td>\n",
              "    </tr>\n",
              "    <tr>\n",
              "      <th>2</th>\n",
              "      <td>3</td>\n",
              "      <td>9</td>\n",
              "      <td>red</td>\n",
              "    </tr>\n",
              "    <tr>\n",
              "      <th>3</th>\n",
              "      <td>4</td>\n",
              "      <td>26</td>\n",
              "      <td>black</td>\n",
              "    </tr>\n",
              "    <tr>\n",
              "      <th>4</th>\n",
              "      <td>5</td>\n",
              "      <td>26</td>\n",
              "      <td>black</td>\n",
              "    </tr>\n",
              "  </tbody>\n",
              "</table>\n",
              "</div>\n",
              "    <div class=\"colab-df-buttons\">\n",
              "\n",
              "  <div class=\"colab-df-container\">\n",
              "    <button class=\"colab-df-convert\" onclick=\"convertToInteractive('df-2e304ac9-ac66-4632-87dd-91adcee16168')\"\n",
              "            title=\"Convert this dataframe to an interactive table.\"\n",
              "            style=\"display:none;\">\n",
              "\n",
              "  <svg xmlns=\"http://www.w3.org/2000/svg\" height=\"24px\" viewBox=\"0 -960 960 960\">\n",
              "    <path d=\"M120-120v-720h720v720H120Zm60-500h600v-160H180v160Zm220 220h160v-160H400v160Zm0 220h160v-160H400v160ZM180-400h160v-160H180v160Zm440 0h160v-160H620v160ZM180-180h160v-160H180v160Zm440 0h160v-160H620v160Z\"/>\n",
              "  </svg>\n",
              "    </button>\n",
              "\n",
              "  <style>\n",
              "    .colab-df-container {\n",
              "      display:flex;\n",
              "      gap: 12px;\n",
              "    }\n",
              "\n",
              "    .colab-df-convert {\n",
              "      background-color: #E8F0FE;\n",
              "      border: none;\n",
              "      border-radius: 50%;\n",
              "      cursor: pointer;\n",
              "      display: none;\n",
              "      fill: #1967D2;\n",
              "      height: 32px;\n",
              "      padding: 0 0 0 0;\n",
              "      width: 32px;\n",
              "    }\n",
              "\n",
              "    .colab-df-convert:hover {\n",
              "      background-color: #E2EBFA;\n",
              "      box-shadow: 0px 1px 2px rgba(60, 64, 67, 0.3), 0px 1px 3px 1px rgba(60, 64, 67, 0.15);\n",
              "      fill: #174EA6;\n",
              "    }\n",
              "\n",
              "    .colab-df-buttons div {\n",
              "      margin-bottom: 4px;\n",
              "    }\n",
              "\n",
              "    [theme=dark] .colab-df-convert {\n",
              "      background-color: #3B4455;\n",
              "      fill: #D2E3FC;\n",
              "    }\n",
              "\n",
              "    [theme=dark] .colab-df-convert:hover {\n",
              "      background-color: #434B5C;\n",
              "      box-shadow: 0px 1px 3px 1px rgba(0, 0, 0, 0.15);\n",
              "      filter: drop-shadow(0px 1px 2px rgba(0, 0, 0, 0.3));\n",
              "      fill: #FFFFFF;\n",
              "    }\n",
              "  </style>\n",
              "\n",
              "    <script>\n",
              "      const buttonEl =\n",
              "        document.querySelector('#df-2e304ac9-ac66-4632-87dd-91adcee16168 button.colab-df-convert');\n",
              "      buttonEl.style.display =\n",
              "        google.colab.kernel.accessAllowed ? 'block' : 'none';\n",
              "\n",
              "      async function convertToInteractive(key) {\n",
              "        const element = document.querySelector('#df-2e304ac9-ac66-4632-87dd-91adcee16168');\n",
              "        const dataTable =\n",
              "          await google.colab.kernel.invokeFunction('convertToInteractive',\n",
              "                                                    [key], {});\n",
              "        if (!dataTable) return;\n",
              "\n",
              "        const docLinkHtml = 'Like what you see? Visit the ' +\n",
              "          '<a target=\"_blank\" href=https://colab.research.google.com/notebooks/data_table.ipynb>data table notebook</a>'\n",
              "          + ' to learn more about interactive tables.';\n",
              "        element.innerHTML = '';\n",
              "        dataTable['output_type'] = 'display_data';\n",
              "        await google.colab.output.renderOutput(dataTable, element);\n",
              "        const docLink = document.createElement('div');\n",
              "        docLink.innerHTML = docLinkHtml;\n",
              "        element.appendChild(docLink);\n",
              "      }\n",
              "    </script>\n",
              "  </div>\n",
              "\n",
              "\n",
              "    <div id=\"df-854bbc27-7807-4129-a39e-9eb004aa662f\">\n",
              "      <button class=\"colab-df-quickchart\" onclick=\"quickchart('df-854bbc27-7807-4129-a39e-9eb004aa662f')\"\n",
              "                title=\"Suggest charts\"\n",
              "                style=\"display:none;\">\n",
              "\n",
              "<svg xmlns=\"http://www.w3.org/2000/svg\" height=\"24px\"viewBox=\"0 0 24 24\"\n",
              "     width=\"24px\">\n",
              "    <g>\n",
              "        <path d=\"M19 3H5c-1.1 0-2 .9-2 2v14c0 1.1.9 2 2 2h14c1.1 0 2-.9 2-2V5c0-1.1-.9-2-2-2zM9 17H7v-7h2v7zm4 0h-2V7h2v10zm4 0h-2v-4h2v4z\"/>\n",
              "    </g>\n",
              "</svg>\n",
              "      </button>\n",
              "\n",
              "<style>\n",
              "  .colab-df-quickchart {\n",
              "      --bg-color: #E8F0FE;\n",
              "      --fill-color: #1967D2;\n",
              "      --hover-bg-color: #E2EBFA;\n",
              "      --hover-fill-color: #174EA6;\n",
              "      --disabled-fill-color: #AAA;\n",
              "      --disabled-bg-color: #DDD;\n",
              "  }\n",
              "\n",
              "  [theme=dark] .colab-df-quickchart {\n",
              "      --bg-color: #3B4455;\n",
              "      --fill-color: #D2E3FC;\n",
              "      --hover-bg-color: #434B5C;\n",
              "      --hover-fill-color: #FFFFFF;\n",
              "      --disabled-bg-color: #3B4455;\n",
              "      --disabled-fill-color: #666;\n",
              "  }\n",
              "\n",
              "  .colab-df-quickchart {\n",
              "    background-color: var(--bg-color);\n",
              "    border: none;\n",
              "    border-radius: 50%;\n",
              "    cursor: pointer;\n",
              "    display: none;\n",
              "    fill: var(--fill-color);\n",
              "    height: 32px;\n",
              "    padding: 0;\n",
              "    width: 32px;\n",
              "  }\n",
              "\n",
              "  .colab-df-quickchart:hover {\n",
              "    background-color: var(--hover-bg-color);\n",
              "    box-shadow: 0 1px 2px rgba(60, 64, 67, 0.3), 0 1px 3px 1px rgba(60, 64, 67, 0.15);\n",
              "    fill: var(--button-hover-fill-color);\n",
              "  }\n",
              "\n",
              "  .colab-df-quickchart-complete:disabled,\n",
              "  .colab-df-quickchart-complete:disabled:hover {\n",
              "    background-color: var(--disabled-bg-color);\n",
              "    fill: var(--disabled-fill-color);\n",
              "    box-shadow: none;\n",
              "  }\n",
              "\n",
              "  .colab-df-spinner {\n",
              "    border: 2px solid var(--fill-color);\n",
              "    border-color: transparent;\n",
              "    border-bottom-color: var(--fill-color);\n",
              "    animation:\n",
              "      spin 1s steps(1) infinite;\n",
              "  }\n",
              "\n",
              "  @keyframes spin {\n",
              "    0% {\n",
              "      border-color: transparent;\n",
              "      border-bottom-color: var(--fill-color);\n",
              "      border-left-color: var(--fill-color);\n",
              "    }\n",
              "    20% {\n",
              "      border-color: transparent;\n",
              "      border-left-color: var(--fill-color);\n",
              "      border-top-color: var(--fill-color);\n",
              "    }\n",
              "    30% {\n",
              "      border-color: transparent;\n",
              "      border-left-color: var(--fill-color);\n",
              "      border-top-color: var(--fill-color);\n",
              "      border-right-color: var(--fill-color);\n",
              "    }\n",
              "    40% {\n",
              "      border-color: transparent;\n",
              "      border-right-color: var(--fill-color);\n",
              "      border-top-color: var(--fill-color);\n",
              "    }\n",
              "    60% {\n",
              "      border-color: transparent;\n",
              "      border-right-color: var(--fill-color);\n",
              "    }\n",
              "    80% {\n",
              "      border-color: transparent;\n",
              "      border-right-color: var(--fill-color);\n",
              "      border-bottom-color: var(--fill-color);\n",
              "    }\n",
              "    90% {\n",
              "      border-color: transparent;\n",
              "      border-bottom-color: var(--fill-color);\n",
              "    }\n",
              "  }\n",
              "</style>\n",
              "\n",
              "      <script>\n",
              "        async function quickchart(key) {\n",
              "          const quickchartButtonEl =\n",
              "            document.querySelector('#' + key + ' button');\n",
              "          quickchartButtonEl.disabled = true;  // To prevent multiple clicks.\n",
              "          quickchartButtonEl.classList.add('colab-df-spinner');\n",
              "          try {\n",
              "            const charts = await google.colab.kernel.invokeFunction(\n",
              "                'suggestCharts', [key], {});\n",
              "          } catch (error) {\n",
              "            console.error('Error during call to suggestCharts:', error);\n",
              "          }\n",
              "          quickchartButtonEl.classList.remove('colab-df-spinner');\n",
              "          quickchartButtonEl.classList.add('colab-df-quickchart-complete');\n",
              "        }\n",
              "        (() => {\n",
              "          let quickchartButtonEl =\n",
              "            document.querySelector('#df-854bbc27-7807-4129-a39e-9eb004aa662f button');\n",
              "          quickchartButtonEl.style.display =\n",
              "            google.colab.kernel.accessAllowed ? 'block' : 'none';\n",
              "        })();\n",
              "      </script>\n",
              "    </div>\n",
              "\n",
              "    </div>\n",
              "  </div>\n"
            ],
            "application/vnd.google.colaboratory.intrinsic+json": {
              "type": "dataframe",
              "variable_name": "df",
              "summary": "{\n  \"name\": \"df\",\n  \"rows\": 100000,\n  \"fields\": [\n    {\n      \"column\": \"Spin\",\n      \"properties\": {\n        \"dtype\": \"number\",\n        \"std\": 28867,\n        \"min\": 1,\n        \"max\": 100000,\n        \"num_unique_values\": 100000,\n        \"samples\": [\n          75722,\n          80185,\n          19865\n        ],\n        \"semantic_type\": \"\",\n        \"description\": \"\"\n      }\n    },\n    {\n      \"column\": \"Number\",\n      \"properties\": {\n        \"dtype\": \"number\",\n        \"std\": 10,\n        \"min\": 0,\n        \"max\": 36,\n        \"num_unique_values\": 37,\n        \"samples\": [\n          31,\n          32,\n          20\n        ],\n        \"semantic_type\": \"\",\n        \"description\": \"\"\n      }\n    },\n    {\n      \"column\": \"Color\",\n      \"properties\": {\n        \"dtype\": \"category\",\n        \"num_unique_values\": 3,\n        \"samples\": [\n          \"black\",\n          \"red\",\n          \"green\"\n        ],\n        \"semantic_type\": \"\",\n        \"description\": \"\"\n      }\n    }\n  ]\n}"
            }
          },
          "metadata": {},
          "execution_count": 4
        }
      ],
      "source": [
        "# I'll name the file based on the bias for clarity\n",
        "bias_name = wheel.bias_type if wheel.bias_type else \"fair\"\n",
        "df.to_csv(f\"roulette_spin_data_{bias_name}.csv\", index=False)\n",
        "\n",
        "# Just checking the top of the dataset\n",
        "df.head()"
      ]
    },
    {
      "cell_type": "markdown",
      "id": "937af876",
      "metadata": {
        "id": "937af876"
      },
      "source": [
        "### Summary\n",
        "\n",
        "In this notebook, I:\n",
        "\n",
        "1. Simulated a European roulette wheel with optional bias.\n",
        "2. Generated thousands of realistic spin results.\n",
        "3. Saved the data into CSV files for use in machine learning or analysis.\n",
        "\n",
        "Next steps I might explore:\n",
        "- Visualize the distribution of outcomes.\n",
        "- Create an OpenAI Gym-style environment using this data.\n",
        "- Train a reinforcement learning model to learn patterns (if any) from biased spins.\n",
        "\n",
        "This setup gives me a flexible foundation to test how RL agents respond to both fair and unfair conditions.\n"
      ]
    },
    {
      "cell_type": "code",
      "execution_count": 5,
      "id": "a882f148",
      "metadata": {
        "colab": {
          "base_uri": "https://localhost:8080/",
          "height": 660
        },
        "id": "a882f148",
        "outputId": "94e49b83-bb2b-4307-acc6-a14a72285010"
      },
      "outputs": [
        {
          "output_type": "stream",
          "name": "stderr",
          "text": [
            "/tmp/ipython-input-5-2419127583.py:6: FutureWarning: \n",
            "\n",
            "Passing `palette` without assigning `hue` is deprecated and will be removed in v0.14.0. Assign the `x` variable to `hue` and set `legend=False` for the same effect.\n",
            "\n",
            "  sns.countplot(x='Number', data=df, palette='viridis')\n"
          ]
        },
        {
          "output_type": "display_data",
          "data": {
            "text/plain": [
              "<Figure size 1600x600 with 1 Axes>"
            ],
            "image/png": "[encoded data removed]"
          },
          "metadata": {}
        }
      ],
      "source": [
        "# I want the plots to look nicer and be easy to interpret\n",
        "sns.set(style=\"whitegrid\")\n",
        "\n",
        "# Plot 1: Frequency of each number (0-36)\n",
        "plt.figure(figsize=(16,6))\n",
        "sns.countplot(x='Number', data=df, palette='viridis')\n",
        "plt.title(\"Frequency of Each Roulette Number\")\n",
        "plt.xlabel(\"Number\")\n",
        "plt.ylabel(\"Count\")\n",
        "plt.show()"
      ]
    },
    {
      "cell_type": "code",
      "execution_count": 6,
      "id": "c5b13297",
      "metadata": {
        "colab": {
          "base_uri": "https://localhost:8080/",
          "height": 506
        },
        "id": "c5b13297",
        "outputId": "d895fae8-9c59-4050-b53a-e25d866068c0"
      },
      "outputs": [
        {
          "output_type": "stream",
          "name": "stderr",
          "text": [
            "/tmp/ipython-input-6-1981108768.py:3: FutureWarning: \n",
            "\n",
            "Passing `palette` without assigning `hue` is deprecated and will be removed in v0.14.0. Assign the `x` variable to `hue` and set `legend=False` for the same effect.\n",
            "\n",
            "  sns.countplot(x='Color', data=df, order=['green', 'red', 'black'], palette=['green', 'red', 'black'])\n"
          ]
        },
        {
          "output_type": "display_data",
          "data": {
            "text/plain": [
              "<Figure size 600x400 with 1 Axes>"
            ],
            "image/png": "[encoded data removed]"
          },
          "metadata": {}
        }
      ],
      "source": [
        "# Plot 2: Frequency of each color\n",
        "plt.figure(figsize=(6,4))\n",
        "sns.countplot(x='Color', data=df, order=['green', 'red', 'black'], palette=['green', 'red', 'black'])\n",
        "plt.title(\"Frequency of Each Color\")\n",
        "plt.xlabel(\"Color\")\n",
        "plt.ylabel(\"Count\")\n",
        "plt.show()"
      ]
    },
    {
      "cell_type": "code",
      "execution_count": 7,
      "id": "493d8771",
      "metadata": {
        "colab": {
          "base_uri": "https://localhost:8080/",
          "height": 521
        },
        "id": "493d8771",
        "outputId": "22abe2f7-93cc-4ebc-94d7-d6dde123551f"
      },
      "outputs": [
        {
          "output_type": "display_data",
          "data": {
            "text/plain": [
              "<Figure size 600x600 with 1 Axes>"
            ],
            "image/png": "[encoded data removed]"
          },
          "metadata": {}
        }
      ],
      "source": [
        "# Plot 3: Pie chart of color distribution\n",
        "color_counts = df['Color'].value_counts()\n",
        "plt.figure(figsize=(6,6))\n",
        "plt.pie(color_counts, labels=color_counts.index, colors=['green', 'red', 'black'], autopct='%1.1f%%', startangle=140)\n",
        "plt.title(\"Color Distribution Pie Chart\")\n",
        "plt.axis('equal')  # Keep the pie chart circular\n",
        "plt.show()"
      ]
    },
    {
      "cell_type": "code",
      "execution_count": 7,
      "id": "dbfa4786",
      "metadata": {
        "id": "dbfa4786"
      },
      "outputs": [],
      "source": []
    }
  ],
  "metadata": {
    "kernelspec": {
      "display_name": "Python 3",
      "name": "python3"
    },
    "language_info": {
      "codemirror_mode": {
        "name": "ipython",
        "version": 3
      },
      "file_extension": ".py",
      "mimetype": "text/x-python",
      "name": "python",
      "nbconvert_exporter": "python",
      "pygments_lexer": "ipython3",
      "version": "3.11.5"
    },
    "colab": {
      "provenance": [],
      "machine_shape": "hm",
      "gpuType": "A100",
      "include_colab_link": true
    },
    "accelerator": "GPU"
  },
  "nbformat": 4,
  "nbformat_minor": 5
}